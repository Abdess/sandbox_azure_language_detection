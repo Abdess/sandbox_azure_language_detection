{
 "cells": [
  {
   "cell_type": "markdown",
   "id": "cultural-parish",
   "metadata": {
    "slideshow": {
     "slide_type": "slide"
    }
   },
   "source": [
    "![1](data/images/presentation/Diapositive1.PNG)"
   ]
  },
  {
   "cell_type": "markdown",
   "id": "cheap-divorce",
   "metadata": {
    "slideshow": {
     "slide_type": "subslide"
    }
   },
   "source": [
    "![2](data/images/presentation/Diapositive2.PNG)"
   ]
  },
  {
   "cell_type": "markdown",
   "id": "duplicate-trauma",
   "metadata": {
    "slideshow": {
     "slide_type": "subslide"
    }
   },
   "source": [
    "![3](data/images/presentation/Diapositive3.PNG)"
   ]
  },
  {
   "cell_type": "markdown",
   "id": "center-frederick",
   "metadata": {
    "slideshow": {
     "slide_type": "subslide"
    }
   },
   "source": [
    "![4](data/images/presentation/Diapositive4.PNG)"
   ]
  },
  {
   "cell_type": "markdown",
   "id": "higher-alexander",
   "metadata": {
    "slideshow": {
     "slide_type": "subslide"
    }
   },
   "source": [
    "![5](data/images/presentation/Diapositive5.PNG)"
   ]
  },
  {
   "cell_type": "markdown",
   "id": "distant-difference",
   "metadata": {
    "slideshow": {
     "slide_type": "subslide"
    }
   },
   "source": [
    "![6](data/images/presentation/Diapositive6.PNG)"
   ]
  },
  {
   "cell_type": "markdown",
   "id": "ahead-devon",
   "metadata": {
    "slideshow": {
     "slide_type": "subslide"
    }
   },
   "source": [
    "![7](data/images/presentation/Diapositive7.PNG)"
   ]
  },
  {
   "cell_type": "markdown",
   "id": "acknowledged-occasions",
   "metadata": {
    "slideshow": {
     "slide_type": "slide"
    }
   },
   "source": [
    "# Optionnel : Préparation de l'environnement"
   ]
  },
  {
   "cell_type": "code",
   "execution_count": 1,
   "id": "infectious-sodium",
   "metadata": {
    "slideshow": {
     "slide_type": "-"
    }
   },
   "outputs": [],
   "source": [
    "# Installation des dépendances\n",
    "# pip install -r requirements.txt\n",
    "\n",
    "# Support du mode slideshow\n",
    "# jupyter-nbextension install rise --py --sys-prefix"
   ]
  },
  {
   "cell_type": "markdown",
   "id": "taken-japanese",
   "metadata": {
    "slideshow": {
     "slide_type": "slide"
    }
   },
   "source": [
    "# Préparation des données\n",
    "\n",
    "Nous chargeons le jeu de données d'identification de langue WiLI-2018 dans une dataframe avec Pandas."
   ]
  },
  {
   "cell_type": "code",
   "execution_count": 2,
   "id": "loaded-matrix",
   "metadata": {
    "slideshow": {
     "slide_type": "-"
    }
   },
   "outputs": [
    {
     "name": "stdout",
     "output_type": "stream",
     "text": [
      "Dimensionnalité de la DataFrame:   (117500, 2)\n"
     ]
    }
   ],
   "source": [
    "import pandas as pd\n",
    "\n",
    "# Le jeu de données est divisé en deux sets, entrainement et test.\n",
    "# Nous allons prendre le set de test.\n",
    "\n",
    "test = pd.read_csv(\"data/x_test.txt\", header=None, delimiter=\"\\r\\n\",\n",
    "                   engine='python', names=['text'], encoding=\"utf-8\")\n",
    "test['label'] = pd.read_table(\n",
    "    \"data/y_test.txt\", header=None, keep_default_na=False)\n",
    "print(\"Dimensionnalité de la DataFrame:  \", test.shape)"
   ]
  },
  {
   "cell_type": "markdown",
   "id": "animated-fence",
   "metadata": {
    "slideshow": {
     "slide_type": "subslide"
    }
   },
   "source": [
    "Une fonction pour extraire la langue au format ISO 6391 à utiliser comme référence au lieu du format à 3 caractères ISO 369-3."
   ]
  },
  {
   "cell_type": "code",
   "execution_count": 3,
   "id": "informed-australia",
   "metadata": {
    "slideshow": {
     "slide_type": "-"
    }
   },
   "outputs": [],
   "source": [
    "# Importation des labels des langues en tant que DataFrame\n",
    "\n",
    "langs = pd.read_csv(\"data/labels.csv\", sep=';',\n",
    "                    keep_default_na=False, na_values=[''])"
   ]
  },
  {
   "cell_type": "code",
   "execution_count": 4,
   "id": "genuine-cursor",
   "metadata": {
    "slideshow": {
     "slide_type": "-"
    }
   },
   "outputs": [],
   "source": [
    "# Cette fonction est utilisée si l'on souhaite que le nom de la langue\n",
    "# soit accompagné de l'étiquette à 3 caractères (ISO 369-3).\n",
    "\n",
    "def lang_id(row):\n",
    "    id = str(row['label'])\n",
    "    ind = langs.index[langs['Label'] == id].tolist()\n",
    "    return(langs.at[ind[0], 'Wiki Code'])"
   ]
  },
  {
   "cell_type": "code",
   "execution_count": 5,
   "id": "written-radiation",
   "metadata": {
    "slideshow": {
     "slide_type": "-"
    }
   },
   "outputs": [],
   "source": [
    "# Application de la fonction ci-dessus à chaque ligne des données\n",
    "\n",
    "test['lang_iso'] = test.apply(lambda row: lang_id(row), axis=1)"
   ]
  },
  {
   "cell_type": "code",
   "execution_count": 6,
   "id": "recreational-shelter",
   "metadata": {
    "slideshow": {
     "slide_type": "subslide"
    }
   },
   "outputs": [
    {
     "data": {
      "text/html": [
       "<div>\n",
       "<style scoped>\n",
       "    .dataframe tbody tr th:only-of-type {\n",
       "        vertical-align: middle;\n",
       "    }\n",
       "\n",
       "    .dataframe tbody tr th {\n",
       "        vertical-align: top;\n",
       "    }\n",
       "\n",
       "    .dataframe thead th {\n",
       "        text-align: right;\n",
       "    }\n",
       "</style>\n",
       "<table border=\"1\" class=\"dataframe\">\n",
       "  <thead>\n",
       "    <tr style=\"text-align: right;\">\n",
       "      <th></th>\n",
       "      <th>text</th>\n",
       "      <th>lang_iso</th>\n",
       "      <th>ID</th>\n",
       "    </tr>\n",
       "  </thead>\n",
       "  <tbody>\n",
       "    <tr>\n",
       "      <th>0</th>\n",
       "      <td>Ne l fin de l seclo XIX l Japon era inda çconh...</td>\n",
       "      <td>mwl</td>\n",
       "      <td>0</td>\n",
       "    </tr>\n",
       "    <tr>\n",
       "      <th>1</th>\n",
       "      <td>Schiedam is gelegen tussen Rotterdam en Vlaard...</td>\n",
       "      <td>nl</td>\n",
       "      <td>1</td>\n",
       "    </tr>\n",
       "    <tr>\n",
       "      <th>2</th>\n",
       "      <td>ГIурусаз батальонал, гьоркьор гIарадабиги лъун...</td>\n",
       "      <td>av</td>\n",
       "      <td>2</td>\n",
       "    </tr>\n",
       "    <tr>\n",
       "      <th>3</th>\n",
       "      <td>ರಾಜ್ಯಶಾಸ್ತ್ರದ ಪಿತಾಮಹೆ ಅರಿಸ್ಟಾಟಲ್. ರಾಜ್ಯಶಾಸ್ತ್ರ...</td>\n",
       "      <td>tcy</td>\n",
       "      <td>3</td>\n",
       "    </tr>\n",
       "    <tr>\n",
       "      <th>4</th>\n",
       "      <td>Halukum adalah kelenjar tiroid nang menonjol d...</td>\n",
       "      <td>bjn</td>\n",
       "      <td>4</td>\n",
       "    </tr>\n",
       "    <tr>\n",
       "      <th>...</th>\n",
       "      <td>...</td>\n",
       "      <td>...</td>\n",
       "      <td>...</td>\n",
       "    </tr>\n",
       "    <tr>\n",
       "      <th>117495</th>\n",
       "      <td>Wakati wa mimba,homa ya Q ni vigumu kutibu kwa...</td>\n",
       "      <td>sw</td>\n",
       "      <td>117495</td>\n",
       "    </tr>\n",
       "    <tr>\n",
       "      <th>117496</th>\n",
       "      <td>گیلون یک ته تاریخی منطقه‌ سفیدرود دلتای طرف ای...</td>\n",
       "      <td>glk</td>\n",
       "      <td>117496</td>\n",
       "    </tr>\n",
       "    <tr>\n",
       "      <th>117497</th>\n",
       "      <td>តាម​រយៈ​ការ​ចិញ្ចឹម​មនោសញ្ចេតនា​ជាតិនិយម​បែប​ន...</td>\n",
       "      <td>km</td>\n",
       "      <td>117497</td>\n",
       "    </tr>\n",
       "    <tr>\n",
       "      <th>117498</th>\n",
       "      <td>روس اک وفاق اے تے 1 مارچ 2008ء توں اسدیاں 83 و...</td>\n",
       "      <td>pnb</td>\n",
       "      <td>117498</td>\n",
       "    </tr>\n",
       "    <tr>\n",
       "      <th>117499</th>\n",
       "      <td>Chute annaée-lo, la Normaundie n'est pus recou...</td>\n",
       "      <td>nrm</td>\n",
       "      <td>117499</td>\n",
       "    </tr>\n",
       "  </tbody>\n",
       "</table>\n",
       "<p>117500 rows × 3 columns</p>\n",
       "</div>"
      ],
      "text/plain": [
       "                                                     text lang_iso      ID\n",
       "0       Ne l fin de l seclo XIX l Japon era inda çconh...      mwl       0\n",
       "1       Schiedam is gelegen tussen Rotterdam en Vlaard...       nl       1\n",
       "2       ГIурусаз батальонал, гьоркьор гIарадабиги лъун...       av       2\n",
       "3       ರಾಜ್ಯಶಾಸ್ತ್ರದ ಪಿತಾಮಹೆ ಅರಿಸ್ಟಾಟಲ್. ರಾಜ್ಯಶಾಸ್ತ್ರ...      tcy       3\n",
       "4       Halukum adalah kelenjar tiroid nang menonjol d...      bjn       4\n",
       "...                                                   ...      ...     ...\n",
       "117495  Wakati wa mimba,homa ya Q ni vigumu kutibu kwa...       sw  117495\n",
       "117496  گیلون یک ته تاریخی منطقه‌ سفیدرود دلتای طرف ای...      glk  117496\n",
       "117497  តាម​រយៈ​ការ​ចិញ្ចឹម​មនោសញ្ចេតនា​ជាតិនិយម​បែប​ន...       km  117497\n",
       "117498  روس اک وفاق اے تے 1 مارچ 2008ء توں اسدیاں 83 و...      pnb  117498\n",
       "117499  Chute annaée-lo, la Normaundie n'est pus recou...      nrm  117499\n",
       "\n",
       "[117500 rows x 3 columns]"
      ]
     },
     "execution_count": 6,
     "metadata": {},
     "output_type": "execute_result"
    }
   ],
   "source": [
    "# Ajout d'une colonne ID requise par le SDK Azure et suppression de la colonne label, car inutile\n",
    "# Les données sont désormais accompagnées de leur code ISO 639-1 au lieu de l'ISO 369-3 des labels\n",
    "\n",
    "test['ID'] = range(len(test))\n",
    "test = test.drop('label', axis=1)\n",
    "test"
   ]
  },
  {
   "cell_type": "markdown",
   "id": "patient-amendment",
   "metadata": {
    "slideshow": {
     "slide_type": "slide"
    }
   },
   "source": [
    "# Traitement des données"
   ]
  },
  {
   "cell_type": "markdown",
   "id": "forced-climate",
   "metadata": {
    "slideshow": {
     "slide_type": "-"
    }
   },
   "source": [
    "Sélection des 5 langues les plus parlées au monde selon Ethnologue :\n",
    "1. Anglais\n",
    "2. Chinois mandarin\n",
    "3. Hindi\n",
    "4. Espagnol\n",
    "5. Arabe standard\n",
    "\n",
    "Source : https://www.ethnologue.com/guides/ethnologue200"
   ]
  },
  {
   "cell_type": "code",
   "execution_count": 7,
   "id": "geological-blink",
   "metadata": {
    "slideshow": {
     "slide_type": "subslide"
    }
   },
   "outputs": [
    {
     "name": "stdout",
     "output_type": "stream",
     "text": [
      "Nombre de labels:   5\n"
     ]
    }
   ],
   "source": [
    "# Sélection des 5 langues les plus parlées au monde\n",
    "\n",
    "include = ['en', 'zh', 'hi', 'es', 'ar']\n",
    "\n",
    "print(\"Nombre de labels:  \", len(include))"
   ]
  },
  {
   "cell_type": "code",
   "execution_count": 8,
   "id": "inside-immigration",
   "metadata": {
    "slideshow": {
     "slide_type": "-"
    }
   },
   "outputs": [
    {
     "name": "stdout",
     "output_type": "stream",
     "text": [
      "Dimensionnalité de la DataFrame:   (2500, 3)\n"
     ]
    }
   ],
   "source": [
    "# Inclus uniquement les langues sélectionnées\n",
    "\n",
    "test = test[test.lang_iso.isin(include)]\n",
    "\n",
    "print(\"Dimensionnalité de la DataFrame:  \", test.shape)"
   ]
  },
  {
   "cell_type": "markdown",
   "id": "binding-reception",
   "metadata": {
    "slideshow": {
     "slide_type": "slide"
    }
   },
   "source": [
    "# Envoi des données vers Azure"
   ]
  },
  {
   "cell_type": "markdown",
   "id": "lucky-privilege",
   "metadata": {
    "slideshow": {
     "slide_type": "notes"
    }
   },
   "source": [
    "# Créer une ressource Cognitive Services\n",
    "\n",
    "Pour detecter la langue des paragraphes, nous essayons le service cognitif **Text Analytics**. Pour l'utiliser, nous devons provisionner une ressource **Text Analytics** ou **Cognitive Services** dans notre abonnement Azure (mieux vaut utiliser une ressource Text Analytics si c'est le seul service que nous prévoyons d'utiliser ou si nous voulons suivre son utilisation séparément; sinon, nous pouvons utiliser une ressource Cognitive Services pour combiner le service Text Analytics avec d'autres services cognitifs - permettant l'utilisation d'un seul point de terminaison et une seule clé pour y accéder).\n",
    "\n",
    "Pour en créer une, il faut suivre les étapes suivantes pour créer une ressource **Cognitive Services** dans un abonnement Azure :\n",
    "\n",
    "> **Note** : Si la ressource Cognitive Services a déjà été créée, il suffit d'ouvrir la page **Démarrage rapide** dans le portail Azure et de copier la clé et le point de terminaison dans le fichier .env_example et le renommer en .env. Sinon, suivez les étapes ci-dessous pour en créer une.\n",
    "\n",
    "1. Dans un autre onglet du navigateur, ouvrez le portail Azure à l'adresse https://portal.azure.com, en vous connectant avec votre compte Microsoft.\n",
    "2. Cliquez sur le bouton **&#65291;Créer une ressource**, recherchez *Cognitive Services*, et créez une ressource **Cognitive Services** avec les paramètres suivants :\n",
    "    - **Souscription** : *Votre abonnement Azure**.\n",
    "    - Groupe de ressources** : *Sélectionnez ou créez un groupe de ressources avec un nom unique*.\n",
    "    - **Région** : *Choisissez n'importe quelle région disponible* :\n",
    "    - **Nom** : *Saisissez un nom unique*.\n",
    "    - Niveau de tarification** : S0\n",
    "    - **Je confirme que j'ai lu et compris les conditions** : Sélectionné.\n",
    "3. Attendez que le déploiement soit terminé. Ensuite, allez à votre ressource de services cognitifs, et sur la page **Overview**, cliquez sur le lien pour gérer les clés pour le service. Vous aurez besoin du point de terminaison et des clés pour vous connecter à votre ressource de services cognitifs à partir d'applications clientes.\n",
    "\n",
    "## Obtenir la clé et le point de terminaison pour votre ressource de services cognitifs\n",
    "\n",
    "Pour utiliser votre ressource de services cognitifs, les applications clientes ont besoin de son point de terminaison et de sa clé d'authentification :\n",
    "\n",
    "1. Dans le portail Azure, sur la page **Clés et Point de terminaison** de vôtre ressource de services cognitifs, copiez la **Clé1** de votre ressource et collez-la dans le votre fichier .env, en remplaçant **PLACE_YOUR_COG_SUBSCRIPTION_KEY_HERE**.\n",
    "2. Copiez le **point de terminaison** de votre ressource et collez-le dans le code ci-dessous, en remplaçant **PLACE_YOUR_COG_ENDPOINT_HERE**.\n",
    "3. Exécutez le code dans la cellule ci-dessous en cliquant sur son bouton <span style=\"color:green\">vert</span>."
   ]
  },
  {
   "cell_type": "markdown",
   "id": "loaded-intervention",
   "metadata": {
    "slideshow": {
     "slide_type": "subslide"
    }
   },
   "source": [
    "## Sécurisation et déclaration de la clé API"
   ]
  },
  {
   "cell_type": "code",
   "execution_count": 9,
   "id": "historic-commons",
   "metadata": {
    "slideshow": {
     "slide_type": "-"
    }
   },
   "outputs": [
    {
     "name": "stdout",
     "output_type": "stream",
     "text": [
      "Prêt à utiliser Cognitive Service\n"
     ]
    }
   ],
   "source": [
    "# Dotenv permet de charger les environnements de variable du fichier .env\n",
    "\n",
    "import os\n",
    "from dotenv import load_dotenv\n",
    "load_dotenv()\n",
    "\n",
    "# Pensez à coller votre clé API et point de terminaison dans votre fichier .env\n",
    "\n",
    "cog_key = os.getenv(\"YOUR_COG_KEY\")\n",
    "cog_endpoint = os.getenv(\"YOUR_COG_ENDPOINT\")\n",
    "\n",
    "print('Prêt à utiliser Cognitive Service')"
   ]
  },
  {
   "cell_type": "markdown",
   "id": "identical-static",
   "metadata": {
    "slideshow": {
     "slide_type": "subslide"
    }
   },
   "source": [
    "# Nombre d'échantillons à évaluer"
   ]
  },
  {
   "cell_type": "code",
   "execution_count": 10,
   "id": "tropical-special",
   "metadata": {
    "slideshow": {
     "slide_type": "-"
    }
   },
   "outputs": [],
   "source": [
    "# Modifiez la valeur de \"nb_sample\" par le montant de textes que vous souhaitez évaluer\n",
    "# Si la valeur est égale à 1, alors 1 paragraphe de chaque langue sélectionnée sera évalué.\n",
    "\n",
    "nb_sample = 100"
   ]
  },
  {
   "cell_type": "markdown",
   "id": "familiar-heater",
   "metadata": {
    "slideshow": {
     "slide_type": "subslide"
    }
   },
   "source": [
    "# Détection de la langue\n",
    "Commençons par identifier la langue d'un échantillion."
   ]
  },
  {
   "cell_type": "code",
   "execution_count": 11,
   "id": "olive-mixer",
   "metadata": {
    "slideshow": {
     "slide_type": "-"
    }
   },
   "outputs": [],
   "source": [
    "# Chargement du SDK Azure\n",
    "from azure.cognitiveservices.language.textanalytics import TextAnalyticsClient\n",
    "from msrest.authentication import CognitiveServicesCredentials\n",
    "\n",
    "# Acquisition d'un client pour analyser le texte avec Cognitive Service\n",
    "text_analytics_client = TextAnalyticsClient(endpoint=cog_endpoint,\n",
    "                                            credentials=CognitiveServicesCredentials(cog_key))"
   ]
  },
  {
   "cell_type": "code",
   "execution_count": 12,
   "id": "fluid-delta",
   "metadata": {
    "slideshow": {
     "slide_type": "-"
    }
   },
   "outputs": [],
   "source": [
    "# Génération d'un échantillon\n",
    "\n",
    "sample_test = test.groupby('lang_iso').head(nb_sample).to_dict('records')"
   ]
  },
  {
   "cell_type": "code",
   "execution_count": 13,
   "id": "numerical-support",
   "metadata": {
    "slideshow": {
     "slide_type": "-"
    }
   },
   "outputs": [],
   "source": [
    "# Analyse l'échantillon généré au-dessus.\n",
    "language_analysis = text_analytics_client.detect_language(\n",
    "    documents=sample_test)"
   ]
  },
  {
   "cell_type": "code",
   "execution_count": 14,
   "id": "killing-inflation",
   "metadata": {
    "slideshow": {
     "slide_type": "subslide"
    }
   },
   "outputs": [],
   "source": [
    "# Enclenchement du process de détection des langues\n",
    "\n",
    "for unique_sample in range(len(sample_test)):\n",
    "\n",
    "    # récupère les détails de la langue du paragraphe\n",
    "    lang = language_analysis.documents[unique_sample].detected_languages[0]\n",
    "\n",
    "    # ajoute le code de langue détecté à la collection de textes\n",
    "    # (afin que nous puissions effectuer une analyse plus approfondie)\n",
    "    sample_test[unique_sample][\"detected_language\"] = lang.iso6391_name[:2]\n",
    "    sample_test[unique_sample][\"score\"] = lang.score"
   ]
  },
  {
   "cell_type": "markdown",
   "id": "unique-native",
   "metadata": {
    "slideshow": {
     "slide_type": "slide"
    }
   },
   "source": [
    "# Analyse des données"
   ]
  },
  {
   "cell_type": "code",
   "execution_count": 15,
   "id": "placed-endorsement",
   "metadata": {
    "slideshow": {
     "slide_type": "-"
    }
   },
   "outputs": [
    {
     "data": {
      "text/html": [
       "<div>\n",
       "<style scoped>\n",
       "    .dataframe tbody tr th:only-of-type {\n",
       "        vertical-align: middle;\n",
       "    }\n",
       "\n",
       "    .dataframe tbody tr th {\n",
       "        vertical-align: top;\n",
       "    }\n",
       "\n",
       "    .dataframe thead th {\n",
       "        text-align: right;\n",
       "    }\n",
       "</style>\n",
       "<table border=\"1\" class=\"dataframe\">\n",
       "  <thead>\n",
       "    <tr style=\"text-align: right;\">\n",
       "      <th></th>\n",
       "      <th>text</th>\n",
       "      <th>lang_iso</th>\n",
       "      <th>ID</th>\n",
       "      <th>detected_language</th>\n",
       "      <th>score</th>\n",
       "      <th>is_correct</th>\n",
       "    </tr>\n",
       "  </thead>\n",
       "  <tbody>\n",
       "    <tr>\n",
       "      <th>0</th>\n",
       "      <td>كانت رحلة كوك - فولسوم - بيترسون الاستكشافية ع...</td>\n",
       "      <td>ar</td>\n",
       "      <td>15</td>\n",
       "      <td>ar</td>\n",
       "      <td>1.000000</td>\n",
       "      <td>1</td>\n",
       "    </tr>\n",
       "    <tr>\n",
       "      <th>1</th>\n",
       "      <td>大都会区有它自己的当地路边快餐口味，包括瓦达帕夫（蓬松面包劈开一半，填入锅贴）、潘尼普里（油...</td>\n",
       "      <td>zh</td>\n",
       "      <td>42</td>\n",
       "      <td>zh</td>\n",
       "      <td>0.994048</td>\n",
       "      <td>1</td>\n",
       "    </tr>\n",
       "    <tr>\n",
       "      <th>2</th>\n",
       "      <td>La ciudad de San Cristóbal es sede del Hospita...</td>\n",
       "      <td>es</td>\n",
       "      <td>50</td>\n",
       "      <td>es</td>\n",
       "      <td>1.000000</td>\n",
       "      <td>1</td>\n",
       "    </tr>\n",
       "    <tr>\n",
       "      <th>3</th>\n",
       "      <td>Anton (or Antonius) Maria Schyrleus (also Schy...</td>\n",
       "      <td>en</td>\n",
       "      <td>68</td>\n",
       "      <td>en</td>\n",
       "      <td>0.970588</td>\n",
       "      <td>1</td>\n",
       "    </tr>\n",
       "    <tr>\n",
       "      <th>4</th>\n",
       "      <td>बांग्लादेश के मुख्य न्यायाधीश का पद, बांग्लादे...</td>\n",
       "      <td>hi</td>\n",
       "      <td>113</td>\n",
       "      <td>hi</td>\n",
       "      <td>1.000000</td>\n",
       "      <td>1</td>\n",
       "    </tr>\n",
       "    <tr>\n",
       "      <th>...</th>\n",
       "      <td>...</td>\n",
       "      <td>...</td>\n",
       "      <td>...</td>\n",
       "      <td>...</td>\n",
       "      <td>...</td>\n",
       "      <td>...</td>\n",
       "    </tr>\n",
       "    <tr>\n",
       "      <th>495</th>\n",
       "      <td>Mientras Gaff protege la entrada a la casa de ...</td>\n",
       "      <td>es</td>\n",
       "      <td>28403</td>\n",
       "      <td>es</td>\n",
       "      <td>0.987952</td>\n",
       "      <td>1</td>\n",
       "    </tr>\n",
       "    <tr>\n",
       "      <th>496</th>\n",
       "      <td>Lucé-sous-Ballon es una población y comuna fra...</td>\n",
       "      <td>es</td>\n",
       "      <td>28436</td>\n",
       "      <td>es</td>\n",
       "      <td>0.935484</td>\n",
       "      <td>1</td>\n",
       "    </tr>\n",
       "    <tr>\n",
       "      <th>497</th>\n",
       "      <td>Yadagiri, P. 1988. A new sauropod Kotasaurus y...</td>\n",
       "      <td>es</td>\n",
       "      <td>28442</td>\n",
       "      <td>en</td>\n",
       "      <td>1.000000</td>\n",
       "      <td>0</td>\n",
       "    </tr>\n",
       "    <tr>\n",
       "      <th>498</th>\n",
       "      <td>El Cabildo de San Isidoro recibe al Ayuntamien...</td>\n",
       "      <td>es</td>\n",
       "      <td>28461</td>\n",
       "      <td>es</td>\n",
       "      <td>1.000000</td>\n",
       "      <td>1</td>\n",
       "    </tr>\n",
       "    <tr>\n",
       "      <th>499</th>\n",
       "      <td>En 1971, grabó Mamy Blue que rompió las listas...</td>\n",
       "      <td>es</td>\n",
       "      <td>28472</td>\n",
       "      <td>es</td>\n",
       "      <td>1.000000</td>\n",
       "      <td>1</td>\n",
       "    </tr>\n",
       "  </tbody>\n",
       "</table>\n",
       "<p>500 rows × 6 columns</p>\n",
       "</div>"
      ],
      "text/plain": [
       "                                                  text lang_iso     ID  \\\n",
       "0    كانت رحلة كوك - فولسوم - بيترسون الاستكشافية ع...       ar     15   \n",
       "1    大都会区有它自己的当地路边快餐口味，包括瓦达帕夫（蓬松面包劈开一半，填入锅贴）、潘尼普里（油...       zh     42   \n",
       "2    La ciudad de San Cristóbal es sede del Hospita...       es     50   \n",
       "3    Anton (or Antonius) Maria Schyrleus (also Schy...       en     68   \n",
       "4    बांग्लादेश के मुख्य न्यायाधीश का पद, बांग्लादे...       hi    113   \n",
       "..                                                 ...      ...    ...   \n",
       "495  Mientras Gaff protege la entrada a la casa de ...       es  28403   \n",
       "496  Lucé-sous-Ballon es una población y comuna fra...       es  28436   \n",
       "497  Yadagiri, P. 1988. A new sauropod Kotasaurus y...       es  28442   \n",
       "498  El Cabildo de San Isidoro recibe al Ayuntamien...       es  28461   \n",
       "499  En 1971, grabó Mamy Blue que rompió las listas...       es  28472   \n",
       "\n",
       "    detected_language     score  is_correct  \n",
       "0                  ar  1.000000           1  \n",
       "1                  zh  0.994048           1  \n",
       "2                  es  1.000000           1  \n",
       "3                  en  0.970588           1  \n",
       "4                  hi  1.000000           1  \n",
       "..                ...       ...         ...  \n",
       "495                es  0.987952           1  \n",
       "496                es  0.935484           1  \n",
       "497                en  1.000000           0  \n",
       "498                es  1.000000           1  \n",
       "499                es  1.000000           1  \n",
       "\n",
       "[500 rows x 6 columns]"
      ]
     },
     "execution_count": 15,
     "metadata": {},
     "output_type": "execute_result"
    }
   ],
   "source": [
    "# Analyse des estimations correct comparé aux labels\n",
    "\n",
    "sample_test = pd.DataFrame.from_dict(sample_test)\n",
    "sample_test['is_correct'] = (\n",
    "    sample_test['lang_iso'] == sample_test['detected_language']).astype(int)\n",
    "sample_test"
   ]
  },
  {
   "cell_type": "markdown",
   "id": "trying-creature",
   "metadata": {
    "slideshow": {
     "slide_type": "slide"
    }
   },
   "source": [
    "# Vue d'ensemble des données"
   ]
  },
  {
   "cell_type": "code",
   "execution_count": 16,
   "id": "growing-august",
   "metadata": {
    "slideshow": {
     "slide_type": "-"
    }
   },
   "outputs": [
    {
     "data": {
      "text/html": [
       "<div>\n",
       "<style scoped>\n",
       "    .dataframe tbody tr th:only-of-type {\n",
       "        vertical-align: middle;\n",
       "    }\n",
       "\n",
       "    .dataframe tbody tr th {\n",
       "        vertical-align: top;\n",
       "    }\n",
       "\n",
       "    .dataframe thead th {\n",
       "        text-align: right;\n",
       "    }\n",
       "</style>\n",
       "<table border=\"1\" class=\"dataframe\">\n",
       "  <thead>\n",
       "    <tr style=\"text-align: right;\">\n",
       "      <th></th>\n",
       "      <th>nb_of_sample</th>\n",
       "      <th>score_mean</th>\n",
       "      <th>is_correct_mean</th>\n",
       "      <th>is_correct_sum</th>\n",
       "    </tr>\n",
       "    <tr>\n",
       "      <th>lang_iso</th>\n",
       "      <th></th>\n",
       "      <th></th>\n",
       "      <th></th>\n",
       "      <th></th>\n",
       "    </tr>\n",
       "  </thead>\n",
       "  <tbody>\n",
       "    <tr>\n",
       "      <th>ar</th>\n",
       "      <td>100</td>\n",
       "      <td>0.985513</td>\n",
       "      <td>1.00</td>\n",
       "      <td>100</td>\n",
       "    </tr>\n",
       "    <tr>\n",
       "      <th>en</th>\n",
       "      <td>100</td>\n",
       "      <td>0.992395</td>\n",
       "      <td>1.00</td>\n",
       "      <td>100</td>\n",
       "    </tr>\n",
       "    <tr>\n",
       "      <th>es</th>\n",
       "      <td>100</td>\n",
       "      <td>0.984362</td>\n",
       "      <td>0.97</td>\n",
       "      <td>97</td>\n",
       "    </tr>\n",
       "    <tr>\n",
       "      <th>hi</th>\n",
       "      <td>100</td>\n",
       "      <td>0.989658</td>\n",
       "      <td>1.00</td>\n",
       "      <td>100</td>\n",
       "    </tr>\n",
       "    <tr>\n",
       "      <th>zh</th>\n",
       "      <td>100</td>\n",
       "      <td>0.985822</td>\n",
       "      <td>1.00</td>\n",
       "      <td>100</td>\n",
       "    </tr>\n",
       "  </tbody>\n",
       "</table>\n",
       "</div>"
      ],
      "text/plain": [
       "          nb_of_sample  score_mean  is_correct_mean  is_correct_sum\n",
       "lang_iso                                                           \n",
       "ar                 100    0.985513             1.00             100\n",
       "en                 100    0.992395             1.00             100\n",
       "es                 100    0.984362             0.97              97\n",
       "hi                 100    0.989658             1.00             100\n",
       "zh                 100    0.985822             1.00             100"
      ]
     },
     "execution_count": 16,
     "metadata": {},
     "output_type": "execute_result"
    }
   ],
   "source": [
    "# Mise en place d'une dataframe avec plusieurs données statistiques\n",
    "\n",
    "grouped_sample = sample_test.drop('ID', axis=1).groupby(\"lang_iso\")\n",
    "sample_count = grouped_sample.count().drop(\n",
    "    ['detected_language', 'score', 'is_correct'], axis=1).rename(columns={'text': 'nb_of_sample'})\n",
    "sample_mean = grouped_sample.mean().rename(\n",
    "    columns={'score': 'score_mean', 'is_correct': 'is_correct_mean'})\n",
    "sample_sum = grouped_sample.sum().drop(['score'], axis=1).rename(\n",
    "    columns={'is_correct': 'is_correct_sum'})\n",
    "\n",
    "sample_merge = pd.merge(\n",
    "    pd.merge(sample_count, sample_mean, on='lang_iso'), sample_sum, on='lang_iso')\n",
    "\n",
    "sample_merge"
   ]
  },
  {
   "cell_type": "markdown",
   "id": "correct-volunteer",
   "metadata": {
    "slideshow": {
     "slide_type": "slide"
    }
   },
   "source": [
    "# Visualisation"
   ]
  },
  {
   "cell_type": "code",
   "execution_count": 17,
   "id": "framed-headquarters",
   "metadata": {
    "slideshow": {
     "slide_type": "subslide"
    }
   },
   "outputs": [],
   "source": [
    "from matplotlib import pyplot as plt\n",
    "import matplotlib as mpl\n",
    "import seaborn as sns\n",
    "%matplotlib inline\n",
    "\n",
    "\n",
    "def vizu():\n",
    "    # Définition des propriétés générales du tracé\n",
    "    sns.set_style(\"white\")\n",
    "    sns.set_context({\"figure.figsize\": (24, 10)})\n",
    "\n",
    "    # Plot 1\n",
    "    sns.barplot(x=sample_merge.index,\n",
    "                y=sample_merge[\"nb_of_sample\"], color=\"red\")\n",
    "\n",
    "    # Plot 2\n",
    "    bottom_plot = sns.barplot(\n",
    "        x=sample_merge.index, y=sample_merge[\"is_correct_sum\"], color=\"#0000A3\")\n",
    "\n",
    "    topbar = plt.Rectangle((0, 0), 1, 1, fc=\"red\", edgecolor='none')\n",
    "    bottombar = plt.Rectangle((0, 0), 1, 1, fc='#0000A3',  edgecolor='none')\n",
    "    l = plt.legend([bottombar, topbar], ['Succès', 'Échec'],\n",
    "                   loc=4, ncol=2, prop={'size': 27})\n",
    "    l.draw_frame(True)\n",
    "\n",
    "    # Code optionnel - Rendre le tracé plus agréable à regarder\n",
    "    sns.despine(left=True)\n",
    "    bottom_plot.set_ylabel(\"Nombre d’échantillons\")\n",
    "    bottom_plot.set_xlabel(\"Langue\")\n",
    "\n",
    "    # Taille de la police\n",
    "    for item in ([bottom_plot.xaxis.label, bottom_plot.yaxis.label] +\n",
    "                 bottom_plot.get_xticklabels() + bottom_plot.get_yticklabels()):\n",
    "        item.set_fontsize(27)"
   ]
  },
  {
   "cell_type": "code",
   "execution_count": 18,
   "id": "consolidated-supply",
   "metadata": {
    "slideshow": {
     "slide_type": "subslide"
    }
   },
   "outputs": [
    {
     "data": {
      "image/png": "[encoded data removed]",
      "text/plain": [
       "<Figure size 1728x720 with 1 Axes>"
      ]
     },
     "metadata": {},
     "output_type": "display_data"
    }
   ],
   "source": [
    "vizu()"
   ]
  },
  {
   "cell_type": "markdown",
   "id": "covered-first",
   "metadata": {
    "slideshow": {
     "slide_type": "slide"
    }
   },
   "source": [
    "# Conclusion"
   ]
  }
 ],
 "metadata": {
  "celltoolbar": "Slideshow",
  "kernelspec": {
   "display_name": "Python 3",
   "language": "python",
   "name": "python3"
  },
  "language_info": {
   "codemirror_mode": {
    "name": "ipython",
    "version": 3
   },
   "file_extension": ".py",
   "mimetype": "text/x-python",
   "name": "python",
   "nbconvert_exporter": "python",
   "pygments_lexer": "ipython3",
   "version": "3.8.5"
  }
 },
 "nbformat": 4,
 "nbformat_minor": 5
}
